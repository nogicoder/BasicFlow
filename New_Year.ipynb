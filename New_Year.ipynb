{
  "nbformat": 4,
  "nbformat_minor": 0,
  "metadata": {
    "colab": {
      "provenance": [],
      "authorship_tag": "ABX9TyOKfXK9vcTERDMqmXS/GshB",
      "include_colab_link": true
    },
    "kernelspec": {
      "name": "python3",
      "display_name": "Python 3"
    },
    "language_info": {
      "name": "python"
    }
  },
  "cells": [
    {
      "cell_type": "markdown",
      "metadata": {
        "id": "view-in-github",
        "colab_type": "text"
      },
      "source": [
        "<a href=\"https://colab.research.google.com/github/nogicoder/BasicFlow/blob/master/New_Year.ipynb\" target=\"_parent\"><img src=\"https://colab.research.google.com/assets/colab-badge.svg\" alt=\"Open In Colab\"/></a>"
      ]
    },
    {
      "cell_type": "code",
      "execution_count": 1,
      "metadata": {
        "id": "QmnDSOUd2ek3"
      },
      "outputs": [],
      "source": [
        "import numpy as np"
      ]
    },
    {
      "cell_type": "code",
      "source": [
        "lucky_number = np.array([8,6,6,8,8,6,6,8])"
      ],
      "metadata": {
        "id": "ZCO-FN3AQ42D"
      },
      "execution_count": 3,
      "outputs": []
    },
    {
      "cell_type": "code",
      "source": [
        "print(lucky_number.shape)\n",
        "print(lucky_number.ndim)\n",
        "print(\"{}. May these numbers bless my family and me all year long! Wish the best health for mom, my sister's family and Thy's family as well! And may everyone's wishes become true\".format(np.unique(lucky_number)))"
      ],
      "metadata": {
        "colab": {
          "base_uri": "https://localhost:8080/"
        },
        "id": "7WrlQ3awRG2o",
        "outputId": "29c4bc3a-d0b7-4f6a-9042-634be5524288"
      },
      "execution_count": 5,
      "outputs": [
        {
          "output_type": "stream",
          "name": "stdout",
          "text": [
            "(8,)\n",
            "1\n",
            "[6 8]. May these numbers bless my family and me all year long! Wish the best health for mom, my sister's family and Thy's family as well! And may everyone's wishes become true\n"
          ]
        }
      ]
    }
  ]
}